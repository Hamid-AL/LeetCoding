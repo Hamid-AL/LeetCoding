{
 "cells": [
  {
   "cell_type": "code",
   "execution_count": 34,
   "id": "71086628",
   "metadata": {},
   "outputs": [],
   "source": [
    "nums=[2,3,5,2,7,9,0,4]\n",
    "prefix_sum = [0]\n",
    "for i in range(len(nums)):\n",
    "    if i==0:\n",
    "        prefix_sum.append(nums[i])\n",
    "    else:\n",
    "        prefix_sum.append(prefix_sum[i - 1] + nums[i])"
   ]
  },
  {
   "cell_type": "code",
   "execution_count": 35,
   "id": "9e463392",
   "metadata": {},
   "outputs": [
    {
     "data": {
      "text/plain": [
       "[0, 2, 3, 7, 5, 14, 14, 14, 18]"
      ]
     },
     "execution_count": 35,
     "metadata": {},
     "output_type": "execute_result"
    }
   ],
   "source": [
    "prefix_sum"
   ]
  },
  {
   "cell_type": "code",
   "execution_count": 39,
   "id": "ef31ec46",
   "metadata": {},
   "outputs": [
    {
     "data": {
      "text/plain": [
       "False"
      ]
     },
     "execution_count": 39,
     "metadata": {},
     "output_type": "execute_result"
    }
   ],
   "source": [
    "sum(nums[:2]) == prefix_sum[2+1]"
   ]
  },
  {
   "cell_type": "code",
   "execution_count": 77,
   "id": "683ac187",
   "metadata": {},
   "outputs": [],
   "source": [
    "from typing import List\n",
    "class Solution:\n",
    "    def subarraySum(self, nums: List[int], k: int) -> int:\n",
    "        count = 0\n",
    "        # calculate prefix sum of nums\n",
    "        prefix_sum = [nums[0]]\n",
    "        for i in range(1, len(nums)):\n",
    "            prefix_sum.append(prefix_sum[i - 1] + nums[i])\n",
    "        prefix_sum.insert(0,0)\n",
    "\n",
    "        for i in range(1, len(prefix_sum)):\n",
    "            for j in range(i+1, len(prefix_sum)+1):\n",
    "                if prefix_sum[j-1]-prefix_sum[i-1]==k:\n",
    "                    count +=1\n",
    "   \n",
    "        return count"
   ]
  },
  {
   "cell_type": "code",
   "execution_count": 78,
   "id": "cb577673",
   "metadata": {},
   "outputs": [
    {
     "name": "stdout",
     "output_type": "stream",
     "text": [
      "21\n"
     ]
    }
   ],
   "source": [
    "s=Solution()\n",
    "nums=[-939,-971,168,492,-464,462,100,-664,287,205,571,815,127,-65,-823,-979,-700,-86,-152,187,-704,845,984,-776,912,558,796,-709,-229,-927,-338,-682,965,-300,-971,-599,459,994,896,565,938,-658,-532,-848,-61,-595,329,-691,-337,-232,685,885,609,811,697,-502,90,101,748,-375,551,-489,368,-306,-518,-788,625,328,-707,-671,372,710,329,397,-15,93,-31,796,-734,866,-804,-258,-278,-810,755,-597,-806,-390,206,-501,672,697,727,645,-703,-896,-384,797,-151,98,228,-619,-303,-20,658,999,358,-19,-318,448,-49,624,-562,849,-787,731,-669,-835,211,-311,238,189,370,445,-245,252,-190]\n",
    "count= s.subarraySum(nums,62)\n",
    "print(count)"
   ]
  },
  {
   "cell_type": "code",
   "execution_count": 88,
   "id": "d5fb259d",
   "metadata": {},
   "outputs": [],
   "source": [
    "class Solution:\n",
    "    def subarraySum(self, nums: List[int], k: int) -> int:\n",
    "        counts = {0:1}\n",
    "        total_sub_arr = 0\n",
    "        summ=0\n",
    "        for i in range(len(nums)):\n",
    "            summ+=nums[i]\n",
    "            diff=summ-k\n",
    "\n",
    "            total_sub_arr += counts.get(diff, 0)\n",
    "            counts[summ]=counts.get(summ,0)+1\n",
    "                \n",
    "        return total_sub_arr"
   ]
  },
  {
   "cell_type": "code",
   "execution_count": 89,
   "id": "a0365f07",
   "metadata": {},
   "outputs": [
    {
     "name": "stdout",
     "output_type": "stream",
     "text": [
      "21\n"
     ]
    }
   ],
   "source": [
    "s=Solution()\n",
    "nums=[-939,-971,168,492,-464,462,100,-664,287,205,571,815,127,-65,-823,-979,-700,-86,-152,187,-704,845,984,-776,912,558,796,-709,-229,-927,-338,-682,965,-300,-971,-599,459,994,896,565,938,-658,-532,-848,-61,-595,329,-691,-337,-232,685,885,609,811,697,-502,90,101,748,-375,551,-489,368,-306,-518,-788,625,328,-707,-671,372,710,329,397,-15,93,-31,796,-734,866,-804,-258,-278,-810,755,-597,-806,-390,206,-501,672,697,727,645,-703,-896,-384,797,-151,98,228,-619,-303,-20,658,999,358,-19,-318,448,-49,624,-562,849,-787,731,-669,-835,211,-311,238,189,370,445,-245,252,-190]\n",
    "count= s.subarraySum(nums,62)\n",
    "print(count)"
   ]
  },
  {
   "cell_type": "code",
   "execution_count": 81,
   "id": "3303128d",
   "metadata": {},
   "outputs": [],
   "source": [
    "c={}\n",
    "c[-1]=1\n",
    "\n"
   ]
  },
  {
   "cell_type": "code",
   "execution_count": 83,
   "id": "83a6a6aa",
   "metadata": {},
   "outputs": [
    {
     "name": "stdout",
     "output_type": "stream",
     "text": [
      "hi\n"
     ]
    }
   ],
   "source": [
    "if c.get(-1):\n",
    "    print('hi')"
   ]
  },
  {
   "cell_type": "code",
   "execution_count": null,
   "id": "cda5bd92",
   "metadata": {},
   "outputs": [],
   "source": []
  }
 ],
 "metadata": {
  "kernelspec": {
   "display_name": "base",
   "language": "python",
   "name": "python3"
  },
  "language_info": {
   "codemirror_mode": {
    "name": "ipython",
    "version": 3
   },
   "file_extension": ".py",
   "mimetype": "text/x-python",
   "name": "python",
   "nbconvert_exporter": "python",
   "pygments_lexer": "ipython3",
   "version": "3.12.4"
  }
 },
 "nbformat": 4,
 "nbformat_minor": 5
}
