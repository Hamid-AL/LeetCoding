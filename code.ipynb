{
 "cells": [
  {
   "cell_type": "code",
   "execution_count": 8,
   "id": "2f7fa974",
   "metadata": {},
   "outputs": [
    {
     "data": {
      "text/plain": [
       "5"
      ]
     },
     "execution_count": 8,
     "metadata": {},
     "output_type": "execute_result"
    }
   ],
   "source": [
    "23%6"
   ]
  },
  {
   "cell_type": "code",
   "execution_count": null,
   "id": "62e0679e",
   "metadata": {},
   "outputs": [],
   "source": []
  },
  {
   "cell_type": "code",
   "execution_count": 12,
   "id": "aa4984ca",
   "metadata": {},
   "outputs": [],
   "source": [
    "nums=[23,3,5,2,7,9,0,4]\n",
    "prefix_sum = [nums[0]]\n",
    "for num in nums[1:]:\n",
    "    prefix_sum.append(prefix_sum[-1] + num)"
   ]
  },
  {
   "cell_type": "code",
   "execution_count": 13,
   "id": "f5414153",
   "metadata": {},
   "outputs": [
    {
     "data": {
      "text/plain": [
       "{5: 0}"
      ]
     },
     "execution_count": 13,
     "metadata": {},
     "output_type": "execute_result"
    }
   ],
   "source": [
    "hash={nums[0]%6: 0}\n",
    "hash"
   ]
  },
  {
   "cell_type": "code",
   "execution_count": null,
   "id": "b235a720",
   "metadata": {},
   "outputs": [],
   "source": [
    "from typing import List\n",
    "class Solution:\n",
    "    def checkSubarraySum(self, nums: List[int], k: int) -> bool:\n",
    "        hash_table = {0: -1}\n",
    "        summ=0\n",
    "        \n",
    "        #for i in range( len(nums)):\n",
    "        for i , n in enumerate(nums):\n",
    "            summ+=n\n",
    "            rest = summ % k\n",
    "            if hash_table.get(rest) is None:\n",
    "                hash_table[rest] = i\n",
    "            else:\n",
    "                print(hash_table.get(rest))\n",
    "                print(i-hash_table.get(rest))\n",
    "                print(len(nums)-hash_table.get(rest))\n",
    "                if i-hash_table.get(rest)>=2 and len(nums)-hash_table.get(rest)>=2:\n",
    "                    return True\n",
    "\n",
    "        return False\n"
   ]
  },
  {
   "cell_type": "code",
   "execution_count": 63,
   "id": "8c2d6394",
   "metadata": {},
   "outputs": [
    {
     "name": "stdout",
     "output_type": "stream",
     "text": [
      "-1\n",
      "1\n",
      "3\n",
      "-1\n",
      "2\n",
      "3\n"
     ]
    },
    {
     "data": {
      "text/plain": [
       "True"
      ]
     },
     "execution_count": 63,
     "metadata": {},
     "output_type": "execute_result"
    }
   ],
   "source": [
    "s = Solution()\n",
    "nums=[0,0]\n",
    "s.checkSubarraySum(nums, 1)"
   ]
  },
  {
   "cell_type": "code",
   "execution_count": null,
   "id": "e437f231",
   "metadata": {},
   "outputs": [],
   "source": []
  }
 ],
 "metadata": {
  "kernelspec": {
   "display_name": "base",
   "language": "python",
   "name": "python3"
  },
  "language_info": {
   "codemirror_mode": {
    "name": "ipython",
    "version": 3
   },
   "file_extension": ".py",
   "mimetype": "text/x-python",
   "name": "python",
   "nbconvert_exporter": "python",
   "pygments_lexer": "ipython3",
   "version": "3.12.4"
  }
 },
 "nbformat": 4,
 "nbformat_minor": 5
}
